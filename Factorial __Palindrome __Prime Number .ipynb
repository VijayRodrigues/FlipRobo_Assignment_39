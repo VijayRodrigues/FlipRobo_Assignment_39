{
 "cells": [
  {
   "cell_type": "markdown",
   "id": "fdeccfd0",
   "metadata": {},
   "source": [
    "# 11. Write a python program to find the factorial of a number"
   ]
  },
  {
   "cell_type": "code",
   "execution_count": null,
   "id": "c231d9c3",
   "metadata": {},
   "outputs": [],
   "source": [
    "import math  \n",
    "\n",
    "# the below input box accepts only int values \n",
    "# and if we try to enter value less than 0 we get printed message\n",
    "\n",
    "num = int(input(\"Please enter the number (0 or > than 0):\"))  \n",
    "\n",
    "if num < 0:\n",
    "    print(\"Please don't input negative values\")\n",
    "else:\n",
    "    f = math.factorial(num)  # have used factorial function from math library\n",
    "    print(\"Factorial of\", num, \"is\", f)  \n"
   ]
  },
  {
   "cell_type": "markdown",
   "id": "56a97d7d",
   "metadata": {},
   "source": [
    "# 12. Write a python program to find whether a number is prime or composite."
   ]
  },
  {
   "cell_type": "code",
   "execution_count": null,
   "id": "07bf93ea",
   "metadata": {},
   "outputs": [],
   "source": [
    "# the below input box accepts only int values \n",
    "# and if we try to enter value less than 0 we get printed message\n",
    "\n",
    "num = int(input(\"Enter a number: \"))  \n",
    " \n",
    "if num < 0:\n",
    "    print(\"Please do not enter values less than 0\")\n",
    "    \n",
    "elif num > 1:  \n",
    "    for i in range(2,num):      # considers range starting from 2 till the entered number \"num\"\n",
    "        if (num % i) == 0:  \n",
    "            print(num,\"is not a prime number\")  \n",
    "            print(i,\"times\",num//i,\"is\",num)  \n",
    "            break  \n",
    "    else:  \n",
    "        print(num,\"is a prime number\")  \n",
    "         \n",
    "else:  \n",
    "    print(num,\"is not a prime number\")  "
   ]
  },
  {
   "cell_type": "markdown",
   "id": "6b3d7dec",
   "metadata": {},
   "source": [
    "# 13. Write a python program to check whether a given string is palindrome or not."
   ]
  },
  {
   "cell_type": "code",
   "execution_count": null,
   "id": "8726219e",
   "metadata": {},
   "outputs": [],
   "source": [
    "\n",
    "# Python program to check if a string is palindrome or not\n",
    "\n",
    "\n",
    "text = str(input(\"Enter the text : \"))  \n",
    "    \n",
    "if (text == text[::-1]):\n",
    "    print(\"Yes, it's a palindrome\")    \n",
    "else:\n",
    "    print(\"No, the given work is not a palindrome\")\n",
    "   \n"
   ]
  }
 ],
 "metadata": {
  "kernelspec": {
   "display_name": "Python 3",
   "language": "python",
   "name": "python3"
  },
  "language_info": {
   "codemirror_mode": {
    "name": "ipython",
    "version": 3
   },
   "file_extension": ".py",
   "mimetype": "text/x-python",
   "name": "python",
   "nbconvert_exporter": "python",
   "pygments_lexer": "ipython3",
   "version": "3.8.5"
  }
 },
 "nbformat": 4,
 "nbformat_minor": 5
}
